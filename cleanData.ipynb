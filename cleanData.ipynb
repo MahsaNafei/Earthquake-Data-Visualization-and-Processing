{
 "cells": [
  {
   "cell_type": "markdown",
   "metadata": {},
   "source": [
    "Run the following command to load the JSON file:<br><br>\n",
    "mongoimport --type json -d earthquakes -c hist_quakes --drop --jsonArray significant-earthquake-database.json"
   ]
  },
  {
   "cell_type": "code",
   "execution_count": 1,
   "metadata": {},
   "outputs": [],
   "source": [
    "from pymongo import MongoClient"
   ]
  },
  {
   "cell_type": "code",
   "execution_count": 2,
   "metadata": {},
   "outputs": [],
   "source": [
    "#Connect to the Database\n",
    "mongo = MongoClient(port=27017)\n",
    "db = mongo['earthquakes']"
   ]
  },
  {
   "cell_type": "code",
   "execution_count": 3,
   "metadata": {},
   "outputs": [
    {
     "data": {
      "text/plain": [
       "<pymongo.results.UpdateResult at 0x1d52e121b00>"
      ]
     },
     "execution_count": 3,
     "metadata": {},
     "output_type": "execute_result"
    }
   ],
   "source": [
    "#Remove unwanted columns\n",
    "db.hist_quakes.update_many({},{\"$unset\":{\"damage_millions_dollars\":1,\n",
    "                                         \"deaths_description\":1 ,\n",
    "                                         \"eq_mag_mb\":1,\n",
    "                                         \"eq_mag_mfa\":1,\n",
    "                                         \"eq_mag_ml\":1,\n",
    "                                         \"eq_mag_ms\":1,\n",
    "                                         \"eq_mag_mw\":1,\n",
    "                                         \"eq_mag_unk\":1,\n",
    "                                         \"flag_tsunami\":1,\n",
    "                                         \"houses_damaged_description\":1,\n",
    "                                         \"houses_destroyed_description\":1,\n",
    "                                         \"injuries_description\":1,\n",
    "                                         \"intensity\":1,\n",
    "                                         \"missing\":1,\n",
    "                                         \"missing_description\":1,\n",
    "                                         \"region_code\":1,\n",
    "                                         \"state\":1,\n",
    "                                         \"total_damage_description\":1,\n",
    "                                         \"total_damage_millions_dollars\":1,\n",
    "                                         \"total_deaths\":1,\n",
    "                                         \"total_deaths_description\":1,\n",
    "                                         \"total_houses_damaged\":1,\n",
    "                                         \"total_houses_damaged_description\":1,\n",
    "                                         \"total_houses_destroyed\":1,\n",
    "                                         \"total_houses_destroyed_description\":1,\n",
    "                                         \"total_injuries\":1,\n",
    "                                         \"total_injuries_description\":1,\n",
    "                                         \"total_missing\":1,\n",
    "                                         \"total_missing_description\":1}})\n"
   ]
  },
  {
   "cell_type": "code",
   "execution_count": 4,
   "metadata": {},
   "outputs": [
    {
     "data": {
      "text/plain": [
       "<pymongo.results.DeleteResult at 0x1d52e1218c0>"
      ]
     },
     "execution_count": 4,
     "metadata": {},
     "output_type": "execute_result"
    }
   ],
   "source": [
    "#Delete rows with incomplete data\n",
    "db.hist_quakes.delete_many({\"coordinates\": None})\n",
    "db.hist_quakes.delete_many({\"eq_primary\": None})"
   ]
  },
  {
   "cell_type": "code",
   "execution_count": 5,
   "metadata": {},
   "outputs": [
    {
     "data": {
      "text/plain": [
       "{'_id': ObjectId('65789444274f7bb4e1586277'),\n",
       " 'i_d': '4493',\n",
       " 'year': 1969,\n",
       " 'month': '08',\n",
       " 'day': '11',\n",
       " 'focal_depth': 33,\n",
       " 'eq_primary': 4.7,\n",
       " 'country': 'ITALY',\n",
       " 'location_name': 'ITALY:  PERUGIA',\n",
       " 'deaths': None,\n",
       " 'injuries': 4.0,\n",
       " 'damage_description': 'LIMITED (roughly corresponding to less than $1 million)',\n",
       " 'houses_destroyed': None,\n",
       " 'houses_damaged': None,\n",
       " 'coordinates': {'lon': 12.4, 'lat': 43.2}}"
      ]
     },
     "execution_count": 5,
     "metadata": {},
     "output_type": "execute_result"
    }
   ],
   "source": [
    "sample = db.hist_quakes.find_one({})\n",
    "sample"
   ]
  },
  {
   "cell_type": "code",
   "execution_count": 6,
   "metadata": {},
   "outputs": [
    {
     "data": {
      "text/plain": [
       "4410"
      ]
     },
     "execution_count": 6,
     "metadata": {},
     "output_type": "execute_result"
    }
   ],
   "source": [
    "\n",
    "total_count = db.hist_quakes.count_documents({})\n",
    "total_count\n"
   ]
  }
 ],
 "metadata": {
  "kernelspec": {
   "display_name": "dev",
   "language": "python",
   "name": "python3"
  },
  "language_info": {
   "codemirror_mode": {
    "name": "ipython",
    "version": 3
   },
   "file_extension": ".py",
   "mimetype": "text/x-python",
   "name": "python",
   "nbconvert_exporter": "python",
   "pygments_lexer": "ipython3",
   "version": "3.10.12"
  },
  "orig_nbformat": 4
 },
 "nbformat": 4,
 "nbformat_minor": 2
}
